{
  "nbformat": 4,
  "nbformat_minor": 0,
  "metadata": {
    "colab": {
      "provenance": []
    },
    "kernelspec": {
      "name": "python3",
      "display_name": "Python 3"
    },
    "language_info": {
      "name": "python"
    }
  },
  "cells": [
    {
      "cell_type": "markdown",
      "source": [
        "Python Basics Questions"
      ],
      "metadata": {
        "id": "Xg2xax24aHj5"
      }
    },
    {
      "cell_type": "markdown",
      "source": [
        "1. What is Python, and why is it popular?\n",
        "  -> Python is a programming language is like a set of special rules and symbols that you use to give instruction .\n",
        "  why python\n",
        "  1 Widely used in the industory\n",
        "  2 Data  Industry\n",
        "  3 A lot of libraries.\n",
        "  4 Automation\n",
        "  5 Image processing\n",
        "  6 data bases\n",
        "    -> Ease of learning\n",
        "    -> Versatility - web development, machine learning etc.\n",
        "    -> Readability\n",
        "    -> A lot of libraries\n",
        "    -> Huge active community.\n"
      ],
      "metadata": {
        "id": "zp4PL7FwI1aT"
      }
    },
    {
      "cell_type": "markdown",
      "source": [
        "2. What is an interpreter in Python?\n",
        " -> An interpreter is program that reads and executes Python code line by line, translating it into machine readanle instructions and allowing for immediate results."
      ],
      "metadata": {
        "id": "SbJ-zz02NjEj"
      }
    },
    {
      "cell_type": "markdown",
      "source": [
        "3. What are pre-defined keywords in Python?\n",
        "-> Keywords are predefined words that hold a special meaning and have specific purpose in python.\n",
        " Keywords in Python include: False, True, None, and, as, assert, async, await, def, del, elif, else, break, class, continue, except, finally, for, from, global, if, import, in, is, lambda, nonlocal, not, or, pass, raise, return, try, while, with and yield."
      ],
      "metadata": {
        "id": "zIq85B6dRmyd"
      }
    },
    {
      "cell_type": "markdown",
      "source": [
        "4. Can keywords be used as variable names?\n",
        "-> Variable should not be keyword .\n",
        "ex -:"
      ],
      "metadata": {
        "id": "DSp-SpUGTQrc"
      }
    },
    {
      "cell_type": "code",
      "source": [
        "print(\"hello\")"
      ],
      "metadata": {
        "colab": {
          "base_uri": "https://localhost:8080/"
        },
        "id": "PFnOcz82rgWB",
        "outputId": "29ff7737-bf8b-4072-badb-295b862b7ad6"
      },
      "execution_count": null,
      "outputs": [
        {
          "output_type": "stream",
          "name": "stdout",
          "text": [
            "hello\n"
          ]
        }
      ]
    },
    {
      "cell_type": "markdown",
      "source": [
        "5. What is mutability in Python?\n",
        " -> In Python , objets can be either changeable (modifiable) or unchangeable."
      ],
      "metadata": {
        "id": "mcKxMBGBTfdP"
      }
    },
    {
      "cell_type": "code",
      "source": [
        "list_cont=[1,2,3,4]\n",
        "list_cont[2]= \"pwskills\"\n",
        "list_cont"
      ],
      "metadata": {
        "colab": {
          "base_uri": "https://localhost:8080/"
        },
        "id": "lt3qVIO1-PRI",
        "outputId": "7142cb5a-d3ac-4489-c4df-3911ebfcffdd"
      },
      "execution_count": null,
      "outputs": [
        {
          "output_type": "execute_result",
          "data": {
            "text/plain": [
              "[1, 2, 'pwskills', 4]"
            ]
          },
          "metadata": {},
          "execution_count": 26
        }
      ]
    },
    {
      "cell_type": "markdown",
      "source": [
        "6. Why are lists mutable, but tuples are immutable?\n",
        "-> Objects / container whose state or value can be changed after they are created are called as mutable ojects or container,\n",
        "list is a type mutable object/support item assignment.\n",
        "-> Tuples in Python are immutable, meaning their contents cannot be changed after they are created.\n",
        "Example:-"
      ],
      "metadata": {
        "id": "7rg7RM6MT7P8"
      }
    },
    {
      "cell_type": "code",
      "source": [
        "my_tuple = (1,2,3)\n",
        "my_tuple[0]= 4"
      ],
      "metadata": {
        "colab": {
          "base_uri": "https://localhost:8080/",
          "height": 159
        },
        "id": "WAOnGLvtFHck",
        "outputId": "72201366-8c1e-4d0e-dc2d-a1c5f4e8bd06"
      },
      "execution_count": null,
      "outputs": [
        {
          "output_type": "error",
          "ename": "TypeError",
          "evalue": "'tuple' object does not support item assignment",
          "traceback": [
            "\u001b[0;31m---------------------------------------------------------------------------\u001b[0m",
            "\u001b[0;31mTypeError\u001b[0m                                 Traceback (most recent call last)",
            "\u001b[0;32m<ipython-input-13-b96497757c91>\u001b[0m in \u001b[0;36m<cell line: 0>\u001b[0;34m()\u001b[0m\n\u001b[1;32m      1\u001b[0m \u001b[0mmy_tuple\u001b[0m \u001b[0;34m=\u001b[0m \u001b[0;34m(\u001b[0m\u001b[0;36m1\u001b[0m\u001b[0;34m,\u001b[0m\u001b[0;36m2\u001b[0m\u001b[0;34m,\u001b[0m\u001b[0;36m3\u001b[0m\u001b[0;34m)\u001b[0m\u001b[0;34m\u001b[0m\u001b[0;34m\u001b[0m\u001b[0m\n\u001b[0;32m----> 2\u001b[0;31m \u001b[0mmy_tuple\u001b[0m\u001b[0;34m[\u001b[0m\u001b[0;36m0\u001b[0m\u001b[0;34m]\u001b[0m\u001b[0;34m=\u001b[0m \u001b[0;36m4\u001b[0m\u001b[0;34m\u001b[0m\u001b[0;34m\u001b[0m\u001b[0m\n\u001b[0m",
            "\u001b[0;31mTypeError\u001b[0m: 'tuple' object does not support item assignment"
          ]
        }
      ]
    },
    {
      "cell_type": "markdown",
      "source": [
        "7. What is the difference between “==” and “is” operators in Python?\n",
        "-> == chechs if values of two variables are equal.\n",
        "   is checks if two variables refer to the same object in memory.\n",
        "Example:"
      ],
      "metadata": {
        "id": "bDHfP1E_UH5d"
      }
    },
    {
      "cell_type": "code",
      "source": [
        "a = [1, 2]\n",
        "b = [1, 2]\n",
        "a == b # True\n",
        "a is b # False"
      ],
      "metadata": {
        "colab": {
          "base_uri": "https://localhost:8080/"
        },
        "id": "pH_KiJIUuBL5",
        "outputId": "77c4f6bb-785d-468e-bfc8-1afb0fa59dac"
      },
      "execution_count": null,
      "outputs": [
        {
          "output_type": "execute_result",
          "data": {
            "text/plain": [
              "False"
            ]
          },
          "metadata": {},
          "execution_count": 6
        }
      ]
    },
    {
      "cell_type": "markdown",
      "source": [
        "8. What are logical operators in Python?\n",
        "-> Logical operators in python are used to perform logical operations on Boolean values. The main logical operators are: and , or ,and not.\n",
        " * and: Returns Ture if both operands are True ,otherwise returns false.\n",
        "\n",
        " * or: Retruns Ture if at least one of the operands is , otherwise returns False.\n",
        "\n",
        " * not: Returns the opposite boolean vale of the operand is Ture ,it returns False , and vice vesa.\n"
      ],
      "metadata": {
        "id": "Wf4SNqZ-UXK0"
      }
    },
    {
      "cell_type": "code",
      "source": [
        "x = True\n",
        "y = False\n",
        "print(x and y)"
      ],
      "metadata": {
        "colab": {
          "base_uri": "https://localhost:8080/"
        },
        "id": "BlDCHGLMlVZV",
        "outputId": "52e7a16a-47b7-466c-b2af-8f5127b49d69"
      },
      "execution_count": null,
      "outputs": [
        {
          "output_type": "stream",
          "name": "stdout",
          "text": [
            "False\n"
          ]
        }
      ]
    },
    {
      "cell_type": "code",
      "source": [
        "print(x or y)"
      ],
      "metadata": {
        "colab": {
          "base_uri": "https://localhost:8080/"
        },
        "id": "0B5Stez_l4XL",
        "outputId": "67a6b726-5475-4018-d16f-39a0275dac00"
      },
      "execution_count": null,
      "outputs": [
        {
          "output_type": "stream",
          "name": "stdout",
          "text": [
            "True\n"
          ]
        }
      ]
    },
    {
      "cell_type": "code",
      "source": [
        "print(not x)"
      ],
      "metadata": {
        "colab": {
          "base_uri": "https://localhost:8080/"
        },
        "id": "Iof1Eb_wmAbK",
        "outputId": "676c0968-e8e2-4385-e9fa-2ffbba5ef214"
      },
      "execution_count": null,
      "outputs": [
        {
          "output_type": "stream",
          "name": "stdout",
          "text": [
            "False\n"
          ]
        }
      ]
    },
    {
      "cell_type": "markdown",
      "source": [
        "9. What is type casting in Python?\n",
        "-> Type casting type conversion the process of changing the data type of a value object why ? while executing / computation using operators, there can be mismatch between the data type.\n",
        "Ex -:"
      ],
      "metadata": {
        "id": "Mkojvt5OUifn"
      }
    },
    {
      "cell_type": "code",
      "source": [
        "a = \"2\"\n",
        "b = 3\n",
        "type(a)"
      ],
      "metadata": {
        "colab": {
          "base_uri": "https://localhost:8080/"
        },
        "id": "PO1zaMIgbAhB",
        "outputId": "57cc37d8-6631-4bdf-b35b-06226a54ccf1"
      },
      "execution_count": null,
      "outputs": [
        {
          "output_type": "execute_result",
          "data": {
            "text/plain": [
              "str"
            ]
          },
          "metadata": {},
          "execution_count": 3
        }
      ]
    },
    {
      "cell_type": "code",
      "source": [
        "int(a) + b"
      ],
      "metadata": {
        "colab": {
          "base_uri": "https://localhost:8080/"
        },
        "id": "ahaUIMj_bDMI",
        "outputId": "6e51ce36-3dc4-4377-d1cc-fb40ee34b204"
      },
      "execution_count": null,
      "outputs": [
        {
          "output_type": "execute_result",
          "data": {
            "text/plain": [
              "5"
            ]
          },
          "metadata": {},
          "execution_count": 4
        }
      ]
    },
    {
      "cell_type": "code",
      "source": [
        "print(type(a))"
      ],
      "metadata": {
        "colab": {
          "base_uri": "https://localhost:8080/"
        },
        "id": "-F30hLqEbUCY",
        "outputId": "f2cd96cf-56fc-4098-8434-ac72f8af5f93"
      },
      "execution_count": null,
      "outputs": [
        {
          "output_type": "stream",
          "name": "stdout",
          "text": [
            "<class 'str'>\n"
          ]
        }
      ]
    },
    {
      "cell_type": "code",
      "source": [
        "print(type(int(a)))"
      ],
      "metadata": {
        "colab": {
          "base_uri": "https://localhost:8080/"
        },
        "id": "joDsuVpFbmcg",
        "outputId": "315f7cfb-0a70-46bb-e2c2-d73841f7cff1"
      },
      "execution_count": null,
      "outputs": [
        {
          "output_type": "stream",
          "name": "stdout",
          "text": [
            "<class 'int'>\n"
          ]
        }
      ]
    },
    {
      "cell_type": "markdown",
      "source": [
        "10. What is the difference between implicit and explicit type casting?\n",
        "-> Type casting implicit and explicit difference .\n",
        "Implicit type casting\n",
        "(1) Implicit typecasting is done automatically.\n",
        "(2) in this, no data loss take place during data conversion.\n",
        "(3) Implicit conversion donot require any special syntax.\n",
        " Example:- int a = 42; float b = a;\n",
        "Here b will contain typecast value of a, because while assiging value to b  explane typecast the value of a into floaty than assigns it to b.\n",
        "\n",
        "Explicit typecasting\n",
        "(1) It is done programatically.\n",
        "(2) In this, data loss may or may not be take place. Hence there is risk of information loss.\n",
        "(3) Explicit type casting requrie cast operator to perform conversion.\n",
        "Example:- Float a = 44.12; int b = (int)a;\n",
        "Here we explicitly converted float value of a into int while assigning it to int b . (int) is the type casting operator with the type in which you wants to convert.\n"
      ],
      "metadata": {
        "id": "IHs6NAPBUtnq"
      }
    },
    {
      "cell_type": "markdown",
      "source": [
        "11. What is the purpose of conditional statements in Python?\n",
        " -> The purpose of a conditional statement is to control the flow of a program by executing blocks of code depending on whether a condition is true or false.\n",
        " they helpe the program make decisions using keywoards like:\n",
        " If , elif(else if) , else\n",
        " Example:\n"
      ],
      "metadata": {
        "id": "H8ilp9BNU6xS"
      }
    },
    {
      "cell_type": "code",
      "source": [
        "age = 12\n",
        "if age>= 18:print(\"please have a driving license and drive \")\n",
        "else:\n",
        "  print(\"don't drive\")"
      ],
      "metadata": {
        "colab": {
          "base_uri": "https://localhost:8080/"
        },
        "id": "Dg66FBvZya5j",
        "outputId": "b606b825-b3e3-4e17-cbd3-316ecf4b98b1"
      },
      "execution_count": null,
      "outputs": [
        {
          "output_type": "stream",
          "name": "stdout",
          "text": [
            "don't drive\n"
          ]
        }
      ]
    },
    {
      "cell_type": "markdown",
      "source": [
        "12. How does the elif statement work?\n",
        "-> the elif statement in python stands for \"else if\" and is used to check multiple condition. It only run if the if condition is false and its own condition is true."
      ],
      "metadata": {
        "id": "vVmtl-gmVId2"
      }
    },
    {
      "cell_type": "code",
      "source": [
        "age = 66\n",
        "if age < 18:\n",
        "  print(\"You are minority\")\n",
        "elif 18<age<=65:\n",
        "  print(\"You are adult\")\n",
        "else:\n",
        "  print(\"You are senior citizen\")"
      ],
      "metadata": {
        "colab": {
          "base_uri": "https://localhost:8080/"
        },
        "id": "HVBob6he4hj0",
        "outputId": "9f9098fa-eaf7-49e4-9f51-373f626466a0"
      },
      "execution_count": null,
      "outputs": [
        {
          "output_type": "stream",
          "name": "stdout",
          "text": [
            "You are senior citizen\n"
          ]
        }
      ]
    },
    {
      "cell_type": "markdown",
      "source": [
        "13. What is the difference between for and while loops?\n",
        "-> Difference between for and while loops\n",
        "for loop\n",
        "- For loop is used to iterate over a sequence of elements.\n",
        "- for loop allows a programmer to execute a sequence of statements several times.\n",
        "- It iterates infinite time if no condition is given.\n",
        "Syntax:\n",
        "for(initialization condition; increment/decrement)\n",
        "\n",
        "While loop\n",
        "- While loop is used to repat a block of code .\n",
        "- While loop allows a programmer to repeat a single statement or a group of statement for the Ture condtion.\n",
        "- It shows an error if the no condition is given.\n",
        "Syntax:\n",
        "while (boolean condition )\n",
        "loop statements..."
      ],
      "metadata": {
        "id": "pq7Hfk3QVXVw"
      }
    },
    {
      "cell_type": "markdown",
      "source": [
        "14 Describe a scenario where a while loop is more suitable than a for loop.\n",
        "-> A while loop is more suitable than a for loop when the number of iterations is not known advance and depends on a condition that must be evaluated dynamically during runtime."
      ],
      "metadata": {
        "id": "VOFY14PBVsVx"
      }
    },
    {
      "cell_type": "markdown",
      "source": [],
      "metadata": {
        "id": "Ov75PA2VrduT"
      }
    },
    {
      "cell_type": "markdown",
      "source": [
        "Practical Questions"
      ],
      "metadata": {
        "id": "l4O7gUsaZ7Sn"
      }
    },
    {
      "cell_type": "markdown",
      "source": [
        "1. Write a Python program to print \"Hello, World\"!\n"
      ],
      "metadata": {
        "id": "YgzOcJZmeoW8"
      }
    },
    {
      "cell_type": "code",
      "source": [
        "print(\"Hello World\")\n",
        "type(a)"
      ],
      "metadata": {
        "id": "6XIJiBNLdnsn",
        "colab": {
          "base_uri": "https://localhost:8080/"
        },
        "outputId": "34faab12-256c-4447-af35-a43e56aa924d"
      },
      "execution_count": null,
      "outputs": [
        {
          "output_type": "stream",
          "name": "stdout",
          "text": [
            "Hello World\n"
          ]
        },
        {
          "output_type": "execute_result",
          "data": {
            "text/plain": [
              "int"
            ]
          },
          "metadata": {},
          "execution_count": 5
        }
      ]
    },
    {
      "cell_type": "markdown",
      "source": [
        "2. Write a Python program that displays your name and age."
      ],
      "metadata": {
        "id": "Y2m1_JuAs56_"
      }
    },
    {
      "cell_type": "code",
      "source": [
        "name = \"Gaurav Tiwari\"\n",
        "age = \"22\"\n",
        "print(\"My name is\" , name)\n",
        "print(\"I am\", age , \"years old\")"
      ],
      "metadata": {
        "id": "e0ChJzs5moAm",
        "colab": {
          "base_uri": "https://localhost:8080/"
        },
        "outputId": "f6d260a9-541f-4476-f66f-03a1b2c1c125"
      },
      "execution_count": null,
      "outputs": [
        {
          "output_type": "stream",
          "name": "stdout",
          "text": [
            "My name is Gaurav Tiwari\n",
            "I am 22 years old\n"
          ]
        }
      ]
    },
    {
      "cell_type": "markdown",
      "source": [
        "3.Write code to print all the pre-defined keywords in Python using the keyword library?"
      ],
      "metadata": {
        "id": "jiKZcZwZKGUL"
      }
    },
    {
      "cell_type": "code",
      "source": [
        "help(\"keywords\")"
      ],
      "metadata": {
        "colab": {
          "base_uri": "https://localhost:8080/"
        },
        "id": "uNrb3eTqK-Mv",
        "outputId": "5901dd08-e6a2-4a35-f527-c6ea605625fa"
      },
      "execution_count": null,
      "outputs": [
        {
          "output_type": "stream",
          "name": "stdout",
          "text": [
            "\n",
            "Here is a list of the Python keywords.  Enter any keyword to get more help.\n",
            "\n",
            "False               class               from                or\n",
            "None                continue            global              pass\n",
            "True                def                 if                  raise\n",
            "and                 del                 import              return\n",
            "as                  elif                in                  try\n",
            "assert              else                is                  while\n",
            "async               except              lambda              with\n",
            "await               finally             nonlocal            yield\n",
            "break               for                 not                 \n",
            "\n"
          ]
        }
      ]
    },
    {
      "cell_type": "markdown",
      "source": [
        "4. Write a program that checks if a given word is a Python keyword?\n",
        "-> give a program that python keyword. Here's a simple program that does this:"
      ],
      "metadata": {
        "id": "XCfex-JHM3Qr"
      }
    },
    {
      "cell_type": "code",
      "source": [
        "a = \"3.5\"\n",
        "type(a)"
      ],
      "metadata": {
        "id": "0IZ6ppVwNO7F",
        "colab": {
          "base_uri": "https://localhost:8080/"
        },
        "outputId": "024da89a-ac5d-4424-8e91-7fefa7328660"
      },
      "execution_count": null,
      "outputs": [
        {
          "output_type": "execute_result",
          "data": {
            "text/plain": [
              "str"
            ]
          },
          "metadata": {},
          "execution_count": 4
        }
      ]
    },
    {
      "cell_type": "code",
      "source": [
        "bool(a)"
      ],
      "metadata": {
        "colab": {
          "base_uri": "https://localhost:8080/"
        },
        "id": "EQF55jY0jebN",
        "outputId": "0f737ee1-b94b-4d21-8931-0f714164a39c"
      },
      "execution_count": null,
      "outputs": [
        {
          "output_type": "execute_result",
          "data": {
            "text/plain": [
              "True"
            ]
          },
          "metadata": {},
          "execution_count": 7
        }
      ]
    },
    {
      "cell_type": "code",
      "source": [
        "float(a)"
      ],
      "metadata": {
        "colab": {
          "base_uri": "https://localhost:8080/"
        },
        "id": "9lUzq2EUkdvW",
        "outputId": "d9a463a5-7979-486e-f144-d9600ca439a7"
      },
      "execution_count": null,
      "outputs": [
        {
          "output_type": "execute_result",
          "data": {
            "text/plain": [
              "3.5"
            ]
          },
          "metadata": {},
          "execution_count": 11
        }
      ]
    },
    {
      "cell_type": "markdown",
      "source": [
        "5. Create a list and tuple in Python, and demonstrate how attempting to change an element works differently\n",
        "for each.\n",
        "- here's how you can do that with a simple example:"
      ],
      "metadata": {
        "id": "De87Av6NacUk"
      }
    },
    {
      "cell_type": "code",
      "source": [
        "# Creating a list and a tuple\n",
        "my_list = [1, 2, 3]\n",
        "my_tuple = (1, 2, 3)\n",
        "# Modifying an element in the list\n",
        "my_list[0] = 10\n",
        "print(\"Modified list\" , my_list)"
      ],
      "metadata": {
        "colab": {
          "base_uri": "https://localhost:8080/"
        },
        "id": "hH88QEhSe4wq",
        "outputId": "94cdc721-8c56-4507-b109-4706b0a45112"
      },
      "execution_count": null,
      "outputs": [
        {
          "output_type": "stream",
          "name": "stdout",
          "text": [
            "Modified list [10, 2, 3]\n"
          ]
        }
      ]
    },
    {
      "cell_type": "code",
      "source": [
        "# Attempting to modify an element in the tuple\n",
        "try:\n",
        "  my_tuple[0] = 10"
      ],
      "metadata": {
        "id": "-r3q93TTa1cS",
        "colab": {
          "base_uri": "https://localhost:8080/",
          "height": 106
        },
        "outputId": "9edfcd80-37a6-4d4f-aa20-880476a526b6"
      },
      "execution_count": null,
      "outputs": [
        {
          "output_type": "error",
          "ename": "SyntaxError",
          "evalue": "incomplete input (<ipython-input-2-771d566634a8>, line 3)",
          "traceback": [
            "\u001b[0;36m  File \u001b[0;32m\"<ipython-input-2-771d566634a8>\"\u001b[0;36m, line \u001b[0;32m3\u001b[0m\n\u001b[0;31m    my_tuple[0] = 10\u001b[0m\n\u001b[0m                    ^\u001b[0m\n\u001b[0;31mSyntaxError\u001b[0m\u001b[0;31m:\u001b[0m incomplete input\n"
          ]
        }
      ]
    },
    {
      "cell_type": "markdown",
      "source": [
        "6. Write a function to demonstrate the behavior of mutable and immutable arguments."
      ],
      "metadata": {
        "id": "0rXR5hYfayRe"
      }
    },
    {
      "cell_type": "code",
      "source": [
        ">>> mutable_obj = ['a', 'b', 'c']\n",
        ">>> mutable_obj[1] = 'x'\n",
        ">>> mutable_obj"
      ],
      "metadata": {
        "id": "v1MJFJoRbBlP",
        "colab": {
          "base_uri": "https://localhost:8080/"
        },
        "outputId": "a05a38dd-a8a4-4df6-f9bd-2871dc192dc4"
      },
      "execution_count": 34,
      "outputs": [
        {
          "output_type": "execute_result",
          "data": {
            "text/plain": [
              "['a', 'x', 'c']"
            ]
          },
          "metadata": {},
          "execution_count": 34
        }
      ]
    },
    {
      "cell_type": "code",
      "source": [
        ">>> immutable_obj = ('a', 'b', 'c')\n",
        ">>> immutable_obj[1] = 'x'\n",
        ">>> immutable_obj"
      ],
      "metadata": {
        "colab": {
          "base_uri": "https://localhost:8080/",
          "height": 176
        },
        "id": "MLu52RgGpY-Z",
        "outputId": "6982456c-dece-47b6-8b15-076c0b4f447e"
      },
      "execution_count": 35,
      "outputs": [
        {
          "output_type": "error",
          "ename": "TypeError",
          "evalue": "'tuple' object does not support item assignment",
          "traceback": [
            "\u001b[0;31m---------------------------------------------------------------------------\u001b[0m",
            "\u001b[0;31mTypeError\u001b[0m                                 Traceback (most recent call last)",
            "\u001b[0;32m<ipython-input-35-1c4c53fc7cf3>\u001b[0m in \u001b[0;36m<cell line: 0>\u001b[0;34m()\u001b[0m\n\u001b[1;32m      1\u001b[0m \u001b[0mimmutable_obj\u001b[0m \u001b[0;34m=\u001b[0m \u001b[0;34m(\u001b[0m\u001b[0;34m'a'\u001b[0m\u001b[0;34m,\u001b[0m \u001b[0;34m'b'\u001b[0m\u001b[0;34m,\u001b[0m \u001b[0;34m'c'\u001b[0m\u001b[0;34m)\u001b[0m\u001b[0;34m\u001b[0m\u001b[0;34m\u001b[0m\u001b[0m\n\u001b[0;32m----> 2\u001b[0;31m \u001b[0mimmutable_obj\u001b[0m\u001b[0;34m[\u001b[0m\u001b[0;36m1\u001b[0m\u001b[0;34m]\u001b[0m \u001b[0;34m=\u001b[0m \u001b[0;34m'x'\u001b[0m\u001b[0;34m\u001b[0m\u001b[0;34m\u001b[0m\u001b[0m\n\u001b[0m\u001b[1;32m      3\u001b[0m \u001b[0mimmutable_obj\u001b[0m\u001b[0;34m\u001b[0m\u001b[0;34m\u001b[0m\u001b[0m\n",
            "\u001b[0;31mTypeError\u001b[0m: 'tuple' object does not support item assignment"
          ]
        }
      ]
    },
    {
      "cell_type": "code",
      "source": [],
      "metadata": {
        "id": "pl-n7W_ipYs5"
      },
      "execution_count": null,
      "outputs": []
    },
    {
      "cell_type": "markdown",
      "source": [
        "8. Write a program to demonstrate the use of logical operators."
      ],
      "metadata": {
        "id": "akxKkGRlqO4o"
      }
    },
    {
      "cell_type": "code",
      "source": [
        "Logical operators\n",
        "and, or, not\n",
        "x = 6\n",
        "y = 3\n",
        "x<10 and y>1"
      ],
      "metadata": {
        "colab": {
          "base_uri": "https://localhost:8080/"
        },
        "id": "Gsa28A9prAMO",
        "outputId": "f33618ab-1fd7-4e6b-ccb1-e9b21e007c29"
      },
      "execution_count": null,
      "outputs": [
        {
          "output_type": "execute_result",
          "data": {
            "text/plain": [
              "True"
            ]
          },
          "metadata": {},
          "execution_count": 5
        }
      ]
    },
    {
      "cell_type": "code",
      "source": [
        "OR\n",
        "x = 6\n",
        "y = 3\n",
        "x==5 or y==5"
      ],
      "metadata": {
        "colab": {
          "base_uri": "https://localhost:8080/"
        },
        "id": "Bk9MP6Y0s34a",
        "outputId": "2285d009-54c1-4192-8473-cee0ab407b98"
      },
      "execution_count": null,
      "outputs": [
        {
          "output_type": "execute_result",
          "data": {
            "text/plain": [
              "False"
            ]
          },
          "metadata": {},
          "execution_count": 6
        }
      ]
    },
    {
      "cell_type": "code",
      "source": [
        "x = 6\n",
        "y = 3\n",
        "!(x==y)"
      ],
      "metadata": {
        "id": "KC_WG_y6tKyN"
      },
      "execution_count": null,
      "outputs": []
    },
    {
      "cell_type": "markdown",
      "source": [
        "9.Write a Python program to convert user input from string to integer, float, and boolean types."
      ],
      "metadata": {
        "id": "d4gmEEOLqvqL"
      }
    },
    {
      "cell_type": "code",
      "source": [
        "a = 4\n",
        "type(a)"
      ],
      "metadata": {
        "colab": {
          "base_uri": "https://localhost:8080/"
        },
        "id": "lz8MKiMewzLc",
        "outputId": "79d185b4-1b5b-448d-eccd-b6b6ecdb525d"
      },
      "execution_count": null,
      "outputs": [
        {
          "output_type": "execute_result",
          "data": {
            "text/plain": [
              "int"
            ]
          },
          "metadata": {},
          "execution_count": 12
        }
      ]
    },
    {
      "cell_type": "code",
      "source": [
        "b = 4.2\n",
        "type(b)"
      ],
      "metadata": {
        "colab": {
          "base_uri": "https://localhost:8080/"
        },
        "id": "3WD72MFZw4XR",
        "outputId": "1e2ce289-7015-4be4-e1e6-1be2a810a42e"
      },
      "execution_count": null,
      "outputs": [
        {
          "output_type": "execute_result",
          "data": {
            "text/plain": [
              "float"
            ]
          },
          "metadata": {},
          "execution_count": 13
        }
      ]
    },
    {
      "cell_type": "code",
      "source": [
        "c = \"ajay\"\n",
        "type(c)"
      ],
      "metadata": {
        "colab": {
          "base_uri": "https://localhost:8080/"
        },
        "id": "o9ZDqNCoxCaS",
        "outputId": "1619f422-7ac8-4878-b4cc-ba9267f8da85"
      },
      "execution_count": null,
      "outputs": [
        {
          "output_type": "execute_result",
          "data": {
            "text/plain": [
              "str"
            ]
          },
          "metadata": {},
          "execution_count": 14
        }
      ]
    },
    {
      "cell_type": "code",
      "source": [
        "c = True\n",
        "type(c)"
      ],
      "metadata": {
        "colab": {
          "base_uri": "https://localhost:8080/"
        },
        "id": "mY_zKAqTxQDq",
        "outputId": "d957d6e3-599d-490a-bf74-3a1d4bc93a02"
      },
      "execution_count": null,
      "outputs": [
        {
          "output_type": "execute_result",
          "data": {
            "text/plain": [
              "bool"
            ]
          },
          "metadata": {},
          "execution_count": 15
        }
      ]
    },
    {
      "cell_type": "markdown",
      "source": [
        "10. Write code to demonstrate type casting with list elements."
      ],
      "metadata": {
        "id": "0NJHmanFbte2"
      }
    },
    {
      "cell_type": "code",
      "source": [
        "# Example list with mixed data types\n",
        "mixed_list = [1, 2.5, \"3\", True]\n",
        "# Type casting to integers\n",
        "int_list = [int(x) for x in mixed_list]\n",
        "print(\"Integer list:\", int_list)"
      ],
      "metadata": {
        "id": "fC7wD7ofb1uK",
        "colab": {
          "base_uri": "https://localhost:8080/"
        },
        "outputId": "b9067131-8b38-4a46-88dc-a95d41cf117e"
      },
      "execution_count": null,
      "outputs": [
        {
          "output_type": "stream",
          "name": "stdout",
          "text": [
            "Integer list: [1, 2, 3]\n"
          ]
        }
      ]
    },
    {
      "cell_type": "code",
      "source": [
        "#Demonstrating with nested list\n",
        "nested_list =[[1,2.0,\"3\" ],[False, 1]]\n",
        "nested_str_list = [[str(y) for y in x] for x in nested_list]\n",
        "print(\"Nested String list:\", nested_str_list)"
      ],
      "metadata": {
        "colab": {
          "base_uri": "https://localhost:8080/"
        },
        "id": "syOXWerPtzdK",
        "outputId": "45fd71c5-913e-4a9a-e16d-69f21edbd593"
      },
      "execution_count": null,
      "outputs": [
        {
          "output_type": "stream",
          "name": "stdout",
          "text": [
            "Nested String list: [['1', '2.0', '3'], ['False', '1']]\n"
          ]
        }
      ]
    },
    {
      "cell_type": "code",
      "source": [
        "float_list = [float(x) for x in mixed_list]\n",
        "print(\"Float list:\", float_list)"
      ],
      "metadata": {
        "colab": {
          "base_uri": "https://localhost:8080/"
        },
        "id": "qN15hURpk3Mi",
        "outputId": "e1fab2c9-fcac-444a-d129-4a369b357c09"
      },
      "execution_count": null,
      "outputs": [
        {
          "output_type": "stream",
          "name": "stdout",
          "text": [
            "Float list: [1.0, 2.5, 3.0]\n"
          ]
        }
      ]
    },
    {
      "cell_type": "code",
      "source": [
        "str_list = [str(x)for x in mixed_list]\n",
        "print(\"String list:\",str_list)"
      ],
      "metadata": {
        "colab": {
          "base_uri": "https://localhost:8080/"
        },
        "id": "kUWcfyO9liyV",
        "outputId": "1fff2a8c-607d-4f1f-f83e-e165d30eb1fe"
      },
      "execution_count": null,
      "outputs": [
        {
          "output_type": "stream",
          "name": "stdout",
          "text": [
            "String list: ['1', '2.5', '3']\n"
          ]
        }
      ]
    },
    {
      "cell_type": "code",
      "source": [
        "bool_list = [bool(x) for x in mixed_list]\n",
        "print(\"Boolean list:\", bool_list)"
      ],
      "metadata": {
        "colab": {
          "base_uri": "https://localhost:8080/"
        },
        "id": "aCmknaLgmM3N",
        "outputId": "5b3f4472-5ee9-4785-d699-9a67daab0b14"
      },
      "execution_count": null,
      "outputs": [
        {
          "output_type": "stream",
          "name": "stdout",
          "text": [
            "Boolean list: [True, True, True]\n"
          ]
        }
      ]
    },
    {
      "cell_type": "markdown",
      "source": [
        "11. Write a program that checks if a number is positive, negative, or zero."
      ],
      "metadata": {
        "id": "FNliTw06b3LL"
      }
    },
    {
      "cell_type": "code",
      "source": [
        "# Check if a number is positive, negative, or zero\n",
        "# Get input from the user\n",
        "number = float(input(\"Enter a number: \"))\n",
        "# Check the condtion\n",
        "if number > 0:\n",
        "  print(\"The numbernis positive.\")\n",
        "elif number < 0:\n",
        "  print(\"The number is negative.\")\n",
        "else:\n",
        "  print(\"The number is zero.\")"
      ],
      "metadata": {
        "id": "14jTl-NZcC3X",
        "colab": {
          "base_uri": "https://localhost:8080/"
        },
        "outputId": "4e4e4c19-f449-4454-f403-99dd00730e0e"
      },
      "execution_count": null,
      "outputs": [
        {
          "output_type": "stream",
          "name": "stdout",
          "text": [
            "Enter a number: -4\n",
            "The number is negative.\n"
          ]
        }
      ]
    },
    {
      "cell_type": "code",
      "source": [],
      "metadata": {
        "id": "waOsXwiJeurc"
      },
      "execution_count": null,
      "outputs": []
    },
    {
      "cell_type": "markdown",
      "source": [
        "12.  Write a for loop to print numbers from 1 to 10."
      ],
      "metadata": {
        "id": "Jgl_USx9cB8Y"
      }
    },
    {
      "cell_type": "code",
      "source": [
        "for i in range (1, 11):\n",
        "  print(i)"
      ],
      "metadata": {
        "id": "xQsaWIwGcBmG",
        "colab": {
          "base_uri": "https://localhost:8080/"
        },
        "outputId": "57891c8c-c22d-47a1-b50b-f02ab8b4c11a"
      },
      "execution_count": null,
      "outputs": [
        {
          "output_type": "stream",
          "name": "stdout",
          "text": [
            "1\n",
            "2\n",
            "3\n",
            "4\n",
            "5\n",
            "6\n",
            "7\n",
            "8\n",
            "9\n",
            "10\n"
          ]
        }
      ]
    },
    {
      "cell_type": "markdown",
      "source": [
        "13. Write a Python program to find the sum of all even numbers between 1 and 50."
      ],
      "metadata": {
        "id": "alISNJxTcYiW"
      }
    },
    {
      "cell_type": "code",
      "source": [
        "# Initialize the sum\n",
        "total = 0\n",
        "for number in range(1, 50):\n",
        "  if number %2 == 0:\n",
        "    total += number\n",
        "    print(\"The sum of all even numbers between 1 and 50 is:\", total)\n"
      ],
      "metadata": {
        "id": "UvhW5nhCcjht",
        "colab": {
          "base_uri": "https://localhost:8080/"
        },
        "outputId": "ce0120c9-d8e3-452a-b751-5faf31bdfe15"
      },
      "execution_count": null,
      "outputs": [
        {
          "output_type": "stream",
          "name": "stdout",
          "text": [
            "The sum of all even numbers between 1 and 50 is: 2\n",
            "The sum of all even numbers between 1 and 50 is: 6\n",
            "The sum of all even numbers between 1 and 50 is: 12\n",
            "The sum of all even numbers between 1 and 50 is: 20\n",
            "The sum of all even numbers between 1 and 50 is: 30\n",
            "The sum of all even numbers between 1 and 50 is: 42\n",
            "The sum of all even numbers between 1 and 50 is: 56\n",
            "The sum of all even numbers between 1 and 50 is: 72\n",
            "The sum of all even numbers between 1 and 50 is: 90\n",
            "The sum of all even numbers between 1 and 50 is: 110\n",
            "The sum of all even numbers between 1 and 50 is: 132\n",
            "The sum of all even numbers between 1 and 50 is: 156\n",
            "The sum of all even numbers between 1 and 50 is: 182\n",
            "The sum of all even numbers between 1 and 50 is: 210\n",
            "The sum of all even numbers between 1 and 50 is: 240\n",
            "The sum of all even numbers between 1 and 50 is: 272\n",
            "The sum of all even numbers between 1 and 50 is: 306\n",
            "The sum of all even numbers between 1 and 50 is: 342\n",
            "The sum of all even numbers between 1 and 50 is: 380\n",
            "The sum of all even numbers between 1 and 50 is: 420\n",
            "The sum of all even numbers between 1 and 50 is: 462\n",
            "The sum of all even numbers between 1 and 50 is: 506\n",
            "The sum of all even numbers between 1 and 50 is: 552\n",
            "The sum of all even numbers between 1 and 50 is: 600\n"
          ]
        }
      ]
    },
    {
      "cell_type": "markdown",
      "source": [
        "14. Write a program to reverse a string using a while loop."
      ],
      "metadata": {
        "id": "0tUsAZBbckGh"
      }
    },
    {
      "cell_type": "code",
      "source": [
        "def reverse_string(s):\n",
        "    reversed_s = \"\"\n",
        "    length = len(s) - 1\n",
        "    while length >= 0:\n",
        "        reversed_s += s[length]\n",
        "        length -= 1\n",
        "    return reversed_s\n",
        "\n",
        "input_string = \"Hello, World!\"\n",
        "reversed_string = reverse_string(input_string)\n",
        "print(reversed_string)"
      ],
      "metadata": {
        "id": "0gZzsmB4cruF",
        "colab": {
          "base_uri": "https://localhost:8080/"
        },
        "outputId": "12a0e667-4265-4603-9610-c1815ca95611"
      },
      "execution_count": 33,
      "outputs": [
        {
          "output_type": "stream",
          "name": "stdout",
          "text": [
            "!dlroW ,olleH\n"
          ]
        }
      ]
    },
    {
      "cell_type": "markdown",
      "source": [
        "15. Write a Python program to calculate the factorial of a number provided by the user using a while loop."
      ],
      "metadata": {
        "id": "_sKJuj-fcshT"
      }
    },
    {
      "cell_type": "code",
      "source": [
        "number = int(input(\"Enter a non-negative integer: \"))\n",
        "factorial = 1\n",
        "\n",
        "if number < 0:\n",
        "    print(\"Factorial is not defined for negative numbers.\")\n",
        "elif number == 0:\n",
        "    print(\"The factorial of 0 is 1\")\n",
        "else:\n",
        "    while number > 0:\n",
        "        factorial *= number\n",
        "        number -= 1\n",
        "    print(\"The factorial is\", factorial)"
      ],
      "metadata": {
        "id": "AH8dc_Pxc7RP",
        "colab": {
          "base_uri": "https://localhost:8080/"
        },
        "outputId": "7b71e7e5-014e-4c5d-b2e4-80fb4e17b77f"
      },
      "execution_count": 32,
      "outputs": [
        {
          "output_type": "stream",
          "name": "stdout",
          "text": [
            "Enter a non-negative integer: 4\n",
            "The factorial is 24\n"
          ]
        }
      ]
    },
    {
      "cell_type": "code",
      "source": [],
      "metadata": {
        "id": "N9oCuW7w4GZy"
      },
      "execution_count": 21,
      "outputs": []
    }
  ]
}